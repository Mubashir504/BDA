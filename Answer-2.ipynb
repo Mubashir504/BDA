{
 "cells": [
  {
   "cell_type": "code",
   "execution_count": 13,
   "id": "deb388b3",
   "metadata": {},
   "outputs": [
    {
     "name": "stdout",
     "output_type": "stream",
     "text": [
      "What is the order amount? 10\n",
      "What is the state? WI\n",
      "The subtotal is 10\n",
      "The tax is  0.55\n",
      "The subtotal is  10\n",
      "The total is  10.55\n"
     ]
    }
   ],
   "source": [
    "Order=int(input('What is the order amount? '))\n",
    "State=input('What is the state? ')\n",
    "\n",
    "if State=='WI':\n",
    "    print('The subtotal is',Order)\n",
    "    tax=Order*(5.5/100)\n",
    "    print('The tax is ',tax)\n",
    "    res=Order+tax\n",
    "    print('The subtotal is ',Order)\n",
    "    print('The total is ',res)\n",
    "else:\n",
    "    print('The total is',Order)\n",
    "\n",
    "    \n"
   ]
  },
  {
   "cell_type": "code",
   "execution_count": 14,
   "id": "9a0ffe6d",
   "metadata": {},
   "outputs": [
    {
     "name": "stdout",
     "output_type": "stream",
     "text": [
      "What is the order amount? 10\n",
      "What is the state? MN\n",
      "The total is 10\n"
     ]
    }
   ],
   "source": [
    "Order=int(input('What is the order amount? '))\n",
    "State=input('What is the state? ')\n",
    "\n",
    "if State=='WI':\n",
    "    print('The subtotal is',Order)\n",
    "    tax=Order*(5.5/100)\n",
    "    print('The tax is ',tax)\n",
    "    res=Order+tax\n",
    "    print('The subtotal is ',Order)\n",
    "    print('The total is ',res)\n",
    "else:\n",
    "    print('The total is',Order)\n",
    "\n",
    "    "
   ]
  },
  {
   "cell_type": "code",
   "execution_count": null,
   "id": "4a4e9deb",
   "metadata": {},
   "outputs": [],
   "source": []
  }
 ],
 "metadata": {
  "kernelspec": {
   "display_name": "Python 3",
   "language": "python",
   "name": "python3"
  },
  "language_info": {
   "codemirror_mode": {
    "name": "ipython",
    "version": 3
   },
   "file_extension": ".py",
   "mimetype": "text/x-python",
   "name": "python",
   "nbconvert_exporter": "python",
   "pygments_lexer": "ipython3",
   "version": "3.8.8"
  }
 },
 "nbformat": 4,
 "nbformat_minor": 5
}
