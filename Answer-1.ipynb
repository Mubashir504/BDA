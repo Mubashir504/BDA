{
 "cells": [
  {
   "cell_type": "code",
   "execution_count": 5,
   "id": "d29a7dbb",
   "metadata": {},
   "outputs": [
    {
     "name": "stdout",
     "output_type": "stream",
     "text": [
      "Enter Principle Amount:1500\n",
      "Enter Interest Rate %: 4.3\n",
      "Enter the number of years: 4\n",
      "After 4 years at 4.3 %the investment will be worth 1758.0 .\n"
     ]
    }
   ],
   "source": [
    "\n",
    "Principle_Amount=int(input('Enter Principle Amount:'))\n",
    "Rate_of_Interest=float(input('Enter Interest Rate %: '))\n",
    "Number_of_Year=int(input('Enter the number of years: '))\n",
    "\n",
    "Result=float((Principle_Amount*(1+((Rate_of_Interest/100)*Number_of_Year))))\n",
    "print('After',Number_of_Year,'years at',Rate_of_Interest,'%the investment will be worth',Result,'.')\n",
    "\n",
    "                    "
   ]
  },
  {
   "cell_type": "code",
   "execution_count": null,
   "id": "17b238f7",
   "metadata": {},
   "outputs": [],
   "source": []
  },
  {
   "cell_type": "code",
   "execution_count": null,
   "id": "4187f5f5",
   "metadata": {},
   "outputs": [],
   "source": []
  }
 ],
 "metadata": {
  "kernelspec": {
   "display_name": "Python 3",
   "language": "python",
   "name": "python3"
  },
  "language_info": {
   "codemirror_mode": {
    "name": "ipython",
    "version": 3
   },
   "file_extension": ".py",
   "mimetype": "text/x-python",
   "name": "python",
   "nbconvert_exporter": "python",
   "pygments_lexer": "ipython3",
   "version": "3.8.8"
  }
 },
 "nbformat": 4,
 "nbformat_minor": 5
}
