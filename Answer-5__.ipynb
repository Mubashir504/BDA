{
 "cells": [
  {
   "cell_type": "code",
   "execution_count": 4,
   "id": "00bd5e58",
   "metadata": {},
   "outputs": [
    {
     "name": "stdout",
     "output_type": "stream",
     "text": [
      "Press C to Convert from Fahrenheit to Celsius: \n",
      "Press F to Convert from Celsius to Fahrenheit: \n",
      "Your Choice: f\n",
      "Please Enter the Temperature in Celsius 0\n",
      "The Temperature in Fahrenheit is  32.0\n"
     ]
    }
   ],
   "source": [
    "print('Press C to Convert from Fahrenheit to Celsius: ')\n",
    "print('Press F to Convert from Celsius to Fahrenheit: ')\n",
    "X=input('Your Choice: ')\n",
    "\n",
    "if X=='c' or X=='C':\n",
    "    Y=int(input('Please Enter the Temperature in Fahrenheit: '))\n",
    "    res=float(((Y-32)*(5/9)))\n",
    "    print('The Temperature in Celsius is ',res)\n",
    "elif X=='f' or X=='F':\n",
    "    Y=int(input('Please Enter the Temperature in Celsius '))\n",
    "    res=float(((Y*(9/5))+32))\n",
    "    print('The Temperature in Fahrenheit is ',res)\n",
    "else:\n",
    "    print('Invalid entry')  "
   ]
  },
  {
   "cell_type": "code",
   "execution_count": 5,
   "id": "9caec7c2",
   "metadata": {},
   "outputs": [
    {
     "name": "stdout",
     "output_type": "stream",
     "text": [
      "Press C to Convert from Fahrenheit to Celsius: \n",
      "Press F to Convert from Celsius to Fahrenheit: \n",
      "Your Choice: c\n",
      "Please Enter the Temperature in Fahrenheit: 32\n",
      "The Temperature in Celsius is  0.0\n"
     ]
    }
   ],
   "source": [
    "print('Press C to Convert from Fahrenheit to Celsius: ')\n",
    "print('Press F to Convert from Celsius to Fahrenheit: ')\n",
    "X=input('Your Choice: ')\n",
    "\n",
    "if X=='c' or X=='C':\n",
    "    Y=int(input('Please Enter the Temperature in Fahrenheit: '))\n",
    "    res=float(((Y-32)*(5/9)))\n",
    "    print('The Temperature in Celsius is ',res)\n",
    "elif X=='f' or X=='F':\n",
    "    Y=int(input('Please Enter the Temperature in Celsius '))\n",
    "    res=float(((Y*(9/5))+32))\n",
    "    print('The Temperature in Fahrenheit is ',res)\n",
    "else:\n",
    "    print('Invalid entry')   "
   ]
  },
  {
   "cell_type": "code",
   "execution_count": null,
   "id": "f0059853",
   "metadata": {},
   "outputs": [],
   "source": []
  }
 ],
 "metadata": {
  "kernelspec": {
   "display_name": "Python 3",
   "language": "python",
   "name": "python3"
  },
  "language_info": {
   "codemirror_mode": {
    "name": "ipython",
    "version": 3
   },
   "file_extension": ".py",
   "mimetype": "text/x-python",
   "name": "python",
   "nbconvert_exporter": "python",
   "pygments_lexer": "ipython3",
   "version": "3.8.8"
  }
 },
 "nbformat": 4,
 "nbformat_minor": 5
}
