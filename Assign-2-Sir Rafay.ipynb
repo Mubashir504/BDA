{
 "cells": [
  {
   "cell_type": "code",
   "execution_count": 1,
   "id": "2c57c1de",
   "metadata": {},
   "outputs": [
    {
     "name": "stdout",
     "output_type": "stream",
     "text": [
      "Current_Date: 04-Jul-2021\n",
      "Birth Year: 1999\n",
      "Birth Year: 1998\n",
      "Birth Year: 1995\n",
      "{'person_1': {'name': 'Mr.Abdul Rafay', 'age': 22, 'Interests': ['football', 'cricket'], 'amount_deposited': 50000}, 'person_2': {'name': 'Ms.Nancy James', 'age': 23, 'Interests': ['baseball', 'cricket'], 'amount_deposited': 51000}}\n"
     ]
    },
    {
     "ename": "RuntimeError",
     "evalue": "dictionary changed size during iteration",
     "output_type": "error",
     "traceback": [
      "\u001b[1;31m---------------------------------------------------------------------------\u001b[0m",
      "\u001b[1;31mRuntimeError\u001b[0m                              Traceback (most recent call last)",
      "\u001b[1;32m<ipython-input-1-7d4f5db7093a>\u001b[0m in \u001b[0;36m<module>\u001b[1;34m\u001b[0m\n\u001b[0;32m     22\u001b[0m \u001b[0mDel\u001b[0m\u001b[1;33m=\u001b[0m\u001b[1;33m[\u001b[0m\u001b[1;34m's'\u001b[0m\u001b[1;33m,\u001b[0m\u001b[1;34m'm'\u001b[0m\u001b[1;33m,\u001b[0m\u001b[1;34m'k'\u001b[0m\u001b[1;33m]\u001b[0m\u001b[1;33m\u001b[0m\u001b[1;33m\u001b[0m\u001b[0m\n\u001b[0;32m     23\u001b[0m \u001b[1;33m\u001b[0m\u001b[0m\n\u001b[1;32m---> 24\u001b[1;33m \u001b[1;32mfor\u001b[0m \u001b[0mkey\u001b[0m\u001b[1;33m,\u001b[0m\u001b[0mitems\u001b[0m \u001b[1;32min\u001b[0m \u001b[0mMy_Dict\u001b[0m\u001b[1;33m.\u001b[0m\u001b[0mitems\u001b[0m\u001b[1;33m(\u001b[0m\u001b[1;33m)\u001b[0m\u001b[1;33m:\u001b[0m\u001b[1;33m\u001b[0m\u001b[1;33m\u001b[0m\u001b[0m\n\u001b[0m\u001b[0;32m     25\u001b[0m     \u001b[0mx\u001b[0m\u001b[1;33m=\u001b[0m\u001b[0mitems\u001b[0m\u001b[1;33m[\u001b[0m\u001b[1;34m'name'\u001b[0m\u001b[1;33m]\u001b[0m\u001b[1;33m.\u001b[0m\u001b[0mstrip\u001b[0m\u001b[1;33m(\u001b[0m\u001b[1;34m' '\u001b[0m\u001b[1;33m)\u001b[0m\u001b[1;33m\u001b[0m\u001b[1;33m\u001b[0m\u001b[0m\n\u001b[0;32m     26\u001b[0m     \u001b[0mitems\u001b[0m\u001b[1;33m[\u001b[0m\u001b[1;34m'amount_deposited'\u001b[0m\u001b[1;33m]\u001b[0m \u001b[1;33m=\u001b[0m \u001b[0msum\u001b[0m\u001b[1;33m(\u001b[0m\u001b[0mitems\u001b[0m\u001b[1;33m[\u001b[0m\u001b[1;34m'amount_deposited'\u001b[0m\u001b[1;33m]\u001b[0m\u001b[1;33m)\u001b[0m\u001b[1;33m\u001b[0m\u001b[1;33m\u001b[0m\u001b[0m\n",
      "\u001b[1;31mRuntimeError\u001b[0m: dictionary changed size during iteration"
     ]
    }
   ],
   "source": [
    "import json\n",
    "import datetime as dt\n",
    "\n",
    "Current_Date=print('Current_Date:',dt.date.today().strftime('%d-%b-%Y'))\n",
    "\n",
    "My_Dict={\n",
    "    'person_1':{\n",
    "        'name':' Abdul Rafay','age':22,'Interests':['football','cricket'],'amount_deposited':[24000,26000]\n",
    "    },\n",
    "    'person_2':{\n",
    "        'name':'Nancy James','age':23,'Interests':['baseball','cricket'],'amount_deposited':[24000,27000]\n",
    "    },\n",
    "    'person_3':{\n",
    "        'name':'Selena Gomez','age':26,'Interests':['baseball','tennis'],'amount_deposited':[24000,28000]\n",
    "    }\n",
    "}\n",
    "\n",
    "# print(My_Dict['person_1'].values())\n",
    "\n",
    "Mr=['a','b','c','d','e','f','g']\n",
    "Ms=['h','i','j','l','n','o','p','q','r','t','u','v','w','x','y','z']\n",
    "Del=['s','m','k']\n",
    "\n",
    "for key,items in My_Dict.items():\n",
    "    x=items['name'].strip(' ')\n",
    "    items['amount_deposited'] = sum(items['amount_deposited'])\n",
    "    y=items['age']\n",
    "    year=int(dt.date.today().strftime('%Y'))-int(y)\n",
    "    # My_Dict.update({'year': year})\n",
    "    print('Birth Year:',year)\n",
    "    if x[0].lower() in Mr:\n",
    "        temp='Mr.'+x\n",
    "        items['name']=temp\n",
    "        # My_Dict.update({\"year\": year})\n",
    "        # items['amount_deposited'] = sum(items['amount_deposited'])\n",
    "        # print(items)\n",
    "    if x[0].lower() in Ms:\n",
    "        temp = 'Ms.' + x\n",
    "        items['name'] = temp\n",
    "        # items['amount_deposited'] = sum(items['amount_deposited'])\n",
    "        # print(items)\n",
    "    if x[0].lower() in Del:\n",
    "        My_Dict.pop(key)\n",
    "        print(My_Dict)\n",
    "\n",
    "# My_Dict_list=list(My_Dict.keys())\n",
    "# print(My_Dict_list)\n",
    "# for i in My_Dict_list:\n",
    "#     temp=My_Dict[i]\n",
    "#     print(temp)\n",
    "#     print('name'[0])\n",
    "# print(My_Dict)\n",
    "# print(My_Dict.keys())\n",
    "# print(My_Dict.values())\n",
    "# print(My_Dict.items())\n",
    "\n",
    "def write_json_data(file_name:str,data:object):\n",
    "    with open(file_name,mode='w') as file:\n",
    "        json.dump(data,file,indent=2,sort_keys=True)\n",
    "\n",
    "Data=write_json_data('file.json',My_Dict)\n",
    "\n",
    "\n",
    "# for key,item in My_Dict.items():\n",
    "#     # print(item)\n",
    "#     for inner_key,inner_items in item.items():\n",
    "#         print(inner_items)"
   ]
  },
  {
   "cell_type": "code",
   "execution_count": null,
   "id": "f3f06791",
   "metadata": {},
   "outputs": [],
   "source": []
  }
 ],
 "metadata": {
  "kernelspec": {
   "display_name": "Python 3",
   "language": "python",
   "name": "python3"
  },
  "language_info": {
   "codemirror_mode": {
    "name": "ipython",
    "version": 3
   },
   "file_extension": ".py",
   "mimetype": "text/x-python",
   "name": "python",
   "nbconvert_exporter": "python",
   "pygments_lexer": "ipython3",
   "version": "3.8.8"
  }
 },
 "nbformat": 4,
 "nbformat_minor": 5
}
