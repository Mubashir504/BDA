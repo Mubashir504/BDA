{
 "cells": [
  {
   "cell_type": "code",
   "execution_count": 5,
   "id": "71545d9a",
   "metadata": {},
   "outputs": [
    {
     "name": "stdout",
     "output_type": "stream",
     "text": [
      "What is your Age? 12\n",
      "you are not old enough to legally drive\n"
     ]
    }
   ],
   "source": [
    "Age=int(input('What is your Age? '))\n",
    "\n",
    "if Age==16 or Age>16:\n",
    "    print('You are old enough to legally drive.')\n",
    "    \n",
    "else:\n",
    "    print('you are not old enough to legally drive')"
   ]
  },
  {
   "cell_type": "code",
   "execution_count": 4,
   "id": "cc0908cf",
   "metadata": {},
   "outputs": [
    {
     "name": "stdout",
     "output_type": "stream",
     "text": [
      "What is your Age? 17\n",
      "You are old enough to legally drive.\n"
     ]
    }
   ],
   "source": [
    "Age=int(input('What is your Age? '))\n",
    "\n",
    "if Age==16 or Age>16:\n",
    "    print('You are old enough to legally drive.')\n",
    "    \n",
    "else:\n",
    "    print('you are not old enough to legally drive')"
   ]
  },
  {
   "cell_type": "code",
   "execution_count": null,
   "id": "25290c94",
   "metadata": {},
   "outputs": [],
   "source": []
  }
 ],
 "metadata": {
  "kernelspec": {
   "display_name": "Python 3",
   "language": "python",
   "name": "python3"
  },
  "language_info": {
   "codemirror_mode": {
    "name": "ipython",
    "version": 3
   },
   "file_extension": ".py",
   "mimetype": "text/x-python",
   "name": "python",
   "nbconvert_exporter": "python",
   "pygments_lexer": "ipython3",
   "version": "3.8.8"
  }
 },
 "nbformat": 4,
 "nbformat_minor": 5
}
